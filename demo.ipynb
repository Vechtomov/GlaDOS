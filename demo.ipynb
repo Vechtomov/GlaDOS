{
 "cells": [
  {
   "cell_type": "markdown",
   "metadata": {},
   "source": [
    "# Demo the Text-to-Speech module"
   ]
  },
  {
   "cell_type": "code",
   "execution_count": 1,
   "metadata": {},
   "outputs": [],
   "source": [
    "import glados.tts as tts\n",
    "import sounddevice as sd"
   ]
  },
  {
   "cell_type": "code",
   "execution_count": 2,
   "metadata": {},
   "outputs": [
    {
     "name": "stdout",
     "output_type": "stream",
     "text": [
      "Loading libespeak-ng.so.1\n"
     ]
    },
    {
     "name": "stderr",
     "output_type": "stream",
     "text": [
      "/home/michael/miniconda3/envs/glados/lib/python3.11/site-packages/onnxruntime/capi/onnxruntime_inference_collection.py:69: UserWarning: Specified provider 'CUDAExecutionProvider' is not in available provider names.Available providers: 'AzureExecutionProvider, CPUExecutionProvider'\n",
      "  warnings.warn(\n"
     ]
    }
   ],
   "source": [
    "# Instantiate the TTS engine\n",
    "glados_tts = tts.TTSEngine()"
   ]
  },
  {
   "cell_type": "code",
   "execution_count": 3,
   "metadata": {},
   "outputs": [],
   "source": [
    "# Generate the audio.\n",
    "# Glados is spelt incorrectly on purpose to make the pronunciation more accurate.\n",
    "audio = glados_tts.generate_speech_audio(\"Hello, my name is Glados. I am an AI created by Aperture Science.\")\n",
    "\n",
    "# Play the audio\n",
    "sd.play(audio, tts.RATE)"
   ]
  },
  {
   "cell_type": "markdown",
   "metadata": {},
   "source": [
    "# Demo the Automatic speech recogntion system\n",
    "This will detect and transcribe your voice. In this demo, it will then get GlaDOS to repeat back to you what was heard."
   ]
  },
  {
   "cell_type": "code",
   "execution_count": 4,
   "metadata": {},
   "outputs": [],
   "source": [
    "import glados.voice_recognition as vr"
   ]
  },
  {
   "cell_type": "code",
   "execution_count": 5,
   "metadata": {},
   "outputs": [
    {
     "name": "stderr",
     "output_type": "stream",
     "text": [
      "\u001b[0;93m2024-06-01 19:15:57.689050525 [W:onnxruntime:, graph.cc:3593 CleanUnusedInitializersAndNodeArgs] Removing initializer '131'. It is not used by any node and should be removed from the model.\u001b[m\n",
      "\u001b[0;93m2024-06-01 19:15:57.689080169 [W:onnxruntime:, graph.cc:3593 CleanUnusedInitializersAndNodeArgs] Removing initializer '136'. It is not used by any node and should be removed from the model.\u001b[m\n",
      "\u001b[0;93m2024-06-01 19:15:57.689087082 [W:onnxruntime:, graph.cc:3593 CleanUnusedInitializersAndNodeArgs] Removing initializer '139'. It is not used by any node and should be removed from the model.\u001b[m\n",
      "\u001b[0;93m2024-06-01 19:15:57.689093868 [W:onnxruntime:, graph.cc:3593 CleanUnusedInitializersAndNodeArgs] Removing initializer '140'. It is not used by any node and should be removed from the model.\u001b[m\n",
      "\u001b[0;93m2024-06-01 19:15:57.689101326 [W:onnxruntime:, graph.cc:3593 CleanUnusedInitializersAndNodeArgs] Removing initializer '134'. It is not used by any node and should be removed from the model.\u001b[m\n",
      "\u001b[0;93m2024-06-01 19:15:57.689186990 [W:onnxruntime:, graph.cc:3593 CleanUnusedInitializersAndNodeArgs] Removing initializer '628'. It is not used by any node and should be removed from the model.\u001b[m\n",
      "\u001b[0;93m2024-06-01 19:15:57.689194073 [W:onnxruntime:, graph.cc:3593 CleanUnusedInitializersAndNodeArgs] Removing initializer '623'. It is not used by any node and should be removed from the model.\u001b[m\n",
      "\u001b[0;93m2024-06-01 19:15:57.689200012 [W:onnxruntime:, graph.cc:3593 CleanUnusedInitializersAndNodeArgs] Removing initializer '629'. It is not used by any node and should be removed from the model.\u001b[m\n",
      "\u001b[0;93m2024-06-01 19:15:57.689205454 [W:onnxruntime:, graph.cc:3593 CleanUnusedInitializersAndNodeArgs] Removing initializer '620'. It is not used by any node and should be removed from the model.\u001b[m\n",
      "\u001b[0;93m2024-06-01 19:15:57.689211125 [W:onnxruntime:, graph.cc:3593 CleanUnusedInitializersAndNodeArgs] Removing initializer '625'. It is not used by any node and should be removed from the model.\u001b[m\n",
      "whisper_init_from_file_with_params_no_state: loading model from './models/ggml-medium-32-2.en.bin'\n",
      "whisper_model_load: loading model\n",
      "whisper_model_load: n_vocab       = 51864\n",
      "whisper_model_load: n_audio_ctx   = 1500\n",
      "whisper_model_load: n_audio_state = 1024\n",
      "whisper_model_load: n_audio_head  = 16\n",
      "whisper_model_load: n_audio_layer = 24\n",
      "whisper_model_load: n_text_ctx    = 448\n",
      "whisper_model_load: n_text_state  = 1024\n",
      "whisper_model_load: n_text_head   = 16\n",
      "whisper_model_load: n_text_layer  = 2\n",
      "whisper_model_load: n_mels        = 80\n",
      "whisper_model_load: ftype         = 1\n",
      "whisper_model_load: qntvr         = 0\n",
      "whisper_model_load: type          = 4 (medium)\n",
      "whisper_model_load: adding 1608 extra tokens\n",
      "whisper_model_load: n_langs       = 99\n",
      "whisper_backend_init: using CUDA backend\n",
      "ggml_cuda_init: GGML_CUDA_FORCE_MMQ:   no\n",
      "ggml_cuda_init: CUDA_USE_TENSOR_CORES: yes\n",
      "ggml_cuda_init: found 2 CUDA devices:\n",
      "  Device 0: NVIDIA GeForce RTX 3090, compute capability 8.6, VMM: yes\n",
      "  Device 1: NVIDIA GeForce RTX 3090, compute capability 8.6, VMM: yes\n",
      "whisper_model_load:    CUDA0 total size =   793.41 MB\n",
      "whisper_model_load: model size    =  793.41 MB\n",
      "whisper_backend_init: using CUDA backend\n",
      "whisper_init_state: kv self size  =   11.01 MB\n",
      "whisper_init_state: kv cross size =   12.29 MB\n",
      "whisper_init_state: compute buffer (conv)   =   28.68 MB\n",
      "whisper_init_state: compute buffer (encode) =  594.22 MB\n",
      "whisper_init_state: compute buffer (cross)  =    7.85 MB\n",
      "whisper_init_state: compute buffer (decode) =   98.31 MB\n",
      "\u001b[32m2024-06-01 19:15:58.579\u001b[0m | \u001b[1mINFO    \u001b[0m | \u001b[36mglados.voice_recognition\u001b[0m:\u001b[36mstart\u001b[0m:\u001b[36m93\u001b[0m - \u001b[1mStarting Listening...\u001b[0m\n",
      "\u001b[32m2024-06-01 19:15:58.579\u001b[0m | \u001b[1mINFO    \u001b[0m | \u001b[36mglados.voice_recognition\u001b[0m:\u001b[36mstart\u001b[0m:\u001b[36m95\u001b[0m - \u001b[1mListening Running\u001b[0m\n",
      "\u001b[32m2024-06-01 19:15:58.579\u001b[0m | \u001b[1mINFO    \u001b[0m | \u001b[36mglados.voice_recognition\u001b[0m:\u001b[36m_listen_and_respond\u001b[0m:\u001b[36m102\u001b[0m - \u001b[1mListening...\u001b[0m\n",
      "\u001b[32m2024-06-01 19:16:01.259\u001b[0m | \u001b[1mINFO    \u001b[0m | \u001b[36mglados.voice_recognition\u001b[0m:\u001b[36m_process_detected_audio\u001b[0m:\u001b[36m161\u001b[0m - \u001b[1mDetected pause after speech. Processing...\u001b[0m\n",
      "\u001b[32m2024-06-01 19:16:01.260\u001b[0m | \u001b[1mINFO    \u001b[0m | \u001b[36mglados.voice_recognition\u001b[0m:\u001b[36m_process_detected_audio\u001b[0m:\u001b[36m163\u001b[0m - \u001b[1mStopping listening...\u001b[0m\n",
      "\u001b[32m2024-06-01 19:16:01.481\u001b[0m | \u001b[1mINFO    \u001b[0m | \u001b[36mglados.voice_recognition\u001b[0m:\u001b[36m_process_detected_audio\u001b[0m:\u001b[36m169\u001b[0m - \u001b[1mDetected: 'Hello.'\u001b[0m\n",
      "\u001b[32m2024-06-01 19:16:02.120\u001b[0m | \u001b[1mINFO    \u001b[0m | \u001b[36mglados.voice_recognition\u001b[0m:\u001b[36mreset\u001b[0m:\u001b[36m196\u001b[0m - \u001b[1mResetting recorder...\u001b[0m\n",
      "\u001b[32m2024-06-01 19:16:03.840\u001b[0m | \u001b[1mINFO    \u001b[0m | \u001b[36mglados.voice_recognition\u001b[0m:\u001b[36m_process_detected_audio\u001b[0m:\u001b[36m161\u001b[0m - \u001b[1mDetected pause after speech. Processing...\u001b[0m\n",
      "\u001b[32m2024-06-01 19:16:03.841\u001b[0m | \u001b[1mINFO    \u001b[0m | \u001b[36mglados.voice_recognition\u001b[0m:\u001b[36m_process_detected_audio\u001b[0m:\u001b[36m163\u001b[0m - \u001b[1mStopping listening...\u001b[0m\n",
      "\u001b[32m2024-06-01 19:16:04.012\u001b[0m | \u001b[1mINFO    \u001b[0m | \u001b[36mglados.voice_recognition\u001b[0m:\u001b[36m_process_detected_audio\u001b[0m:\u001b[36m169\u001b[0m - \u001b[1mDetected: 'Do you hear me?'\u001b[0m\n",
      "\u001b[32m2024-06-01 19:16:05.208\u001b[0m | \u001b[1mINFO    \u001b[0m | \u001b[36mglados.voice_recognition\u001b[0m:\u001b[36mreset\u001b[0m:\u001b[36m196\u001b[0m - \u001b[1mResetting recorder...\u001b[0m\n",
      "\u001b[32m2024-06-01 19:16:08.406\u001b[0m | \u001b[1mINFO    \u001b[0m | \u001b[36mglados.voice_recognition\u001b[0m:\u001b[36m_process_detected_audio\u001b[0m:\u001b[36m161\u001b[0m - \u001b[1mDetected pause after speech. Processing...\u001b[0m\n",
      "\u001b[32m2024-06-01 19:16:08.407\u001b[0m | \u001b[1mINFO    \u001b[0m | \u001b[36mglados.voice_recognition\u001b[0m:\u001b[36m_process_detected_audio\u001b[0m:\u001b[36m163\u001b[0m - \u001b[1mStopping listening...\u001b[0m\n",
      "\u001b[32m2024-06-01 19:16:08.578\u001b[0m | \u001b[1mINFO    \u001b[0m | \u001b[36mglados.voice_recognition\u001b[0m:\u001b[36m_process_detected_audio\u001b[0m:\u001b[36m169\u001b[0m - \u001b[1mDetected: 'I hear you well, but.'\u001b[0m\n",
      "\u001b[32m2024-06-01 19:16:10.413\u001b[0m | \u001b[1mINFO    \u001b[0m | \u001b[36mglados.voice_recognition\u001b[0m:\u001b[36mreset\u001b[0m:\u001b[36m196\u001b[0m - \u001b[1mResetting recorder...\u001b[0m\n",
      "\u001b[32m2024-06-01 19:16:12.267\u001b[0m | \u001b[1mINFO    \u001b[0m | \u001b[36mglados.voice_recognition\u001b[0m:\u001b[36m_process_detected_audio\u001b[0m:\u001b[36m161\u001b[0m - \u001b[1mDetected pause after speech. Processing...\u001b[0m\n",
      "\u001b[32m2024-06-01 19:16:12.267\u001b[0m | \u001b[1mINFO    \u001b[0m | \u001b[36mglados.voice_recognition\u001b[0m:\u001b[36m_process_detected_audio\u001b[0m:\u001b[36m163\u001b[0m - \u001b[1mStopping listening...\u001b[0m\n",
      "\u001b[32m2024-06-01 19:16:12.439\u001b[0m | \u001b[1mINFO    \u001b[0m | \u001b[36mglados.voice_recognition\u001b[0m:\u001b[36m_process_detected_audio\u001b[0m:\u001b[36m169\u001b[0m - \u001b[1mDetected: 'How about you?'\u001b[0m\n",
      "\u001b[32m2024-06-01 19:16:13.410\u001b[0m | \u001b[1mINFO    \u001b[0m | \u001b[36mglados.voice_recognition\u001b[0m:\u001b[36mreset\u001b[0m:\u001b[36m196\u001b[0m - \u001b[1mResetting recorder...\u001b[0m\n",
      "\u001b[32m2024-06-01 19:16:17.943\u001b[0m | \u001b[1mINFO    \u001b[0m | \u001b[36mglados.voice_recognition\u001b[0m:\u001b[36m_process_detected_audio\u001b[0m:\u001b[36m161\u001b[0m - \u001b[1mDetected pause after speech. Processing...\u001b[0m\n",
      "\u001b[32m2024-06-01 19:16:17.944\u001b[0m | \u001b[1mINFO    \u001b[0m | \u001b[36mglados.voice_recognition\u001b[0m:\u001b[36m_process_detected_audio\u001b[0m:\u001b[36m163\u001b[0m - \u001b[1mStopping listening...\u001b[0m\n",
      "\u001b[32m2024-06-01 19:16:18.106\u001b[0m | \u001b[1mINFO    \u001b[0m | \u001b[36mglados.voice_recognition\u001b[0m:\u001b[36m_process_detected_audio\u001b[0m:\u001b[36m169\u001b[0m - \u001b[1mDetected: 'I get it.'\u001b[0m\n",
      "\u001b[32m2024-06-01 19:16:19.021\u001b[0m | \u001b[1mINFO    \u001b[0m | \u001b[36mglados.voice_recognition\u001b[0m:\u001b[36mreset\u001b[0m:\u001b[36m196\u001b[0m - \u001b[1mResetting recorder...\u001b[0m\n",
      "\u001b[32m2024-06-01 19:16:20.871\u001b[0m | \u001b[1mINFO    \u001b[0m | \u001b[36mglados.voice_recognition\u001b[0m:\u001b[36m_process_detected_audio\u001b[0m:\u001b[36m161\u001b[0m - \u001b[1mDetected pause after speech. Processing...\u001b[0m\n",
      "\u001b[32m2024-06-01 19:16:20.872\u001b[0m | \u001b[1mINFO    \u001b[0m | \u001b[36mglados.voice_recognition\u001b[0m:\u001b[36m_process_detected_audio\u001b[0m:\u001b[36m163\u001b[0m - \u001b[1mStopping listening...\u001b[0m\n",
      "\u001b[32m2024-06-01 19:16:20.937\u001b[0m | \u001b[1mINFO    \u001b[0m | \u001b[36mglados.voice_recognition\u001b[0m:\u001b[36mreset\u001b[0m:\u001b[36m196\u001b[0m - \u001b[1mResetting recorder...\u001b[0m\n",
      "whisper_full_with_state: input is too short - 990 ms < 1000 ms. consider padding the input audio with silence\n",
      "\u001b[32m2024-06-01 19:16:24.330\u001b[0m | \u001b[1mINFO    \u001b[0m | \u001b[36mglados.voice_recognition\u001b[0m:\u001b[36m_process_detected_audio\u001b[0m:\u001b[36m161\u001b[0m - \u001b[1mDetected pause after speech. Processing...\u001b[0m\n",
      "\u001b[32m2024-06-01 19:16:24.330\u001b[0m | \u001b[1mINFO    \u001b[0m | \u001b[36mglados.voice_recognition\u001b[0m:\u001b[36m_process_detected_audio\u001b[0m:\u001b[36m163\u001b[0m - \u001b[1mStopping listening...\u001b[0m\n",
      "\u001b[32m2024-06-01 19:16:24.504\u001b[0m | \u001b[1mINFO    \u001b[0m | \u001b[36mglados.voice_recognition\u001b[0m:\u001b[36m_process_detected_audio\u001b[0m:\u001b[36m169\u001b[0m - \u001b[1mDetected: 'I got it.'\u001b[0m\n",
      "\u001b[32m2024-06-01 19:16:25.389\u001b[0m | \u001b[1mINFO    \u001b[0m | \u001b[36mglados.voice_recognition\u001b[0m:\u001b[36mreset\u001b[0m:\u001b[36m196\u001b[0m - \u001b[1mResetting recorder...\u001b[0m\n",
      "\u001b[32m2024-06-01 19:16:29.153\u001b[0m | \u001b[1mINFO    \u001b[0m | \u001b[36mglados.voice_recognition\u001b[0m:\u001b[36m_process_detected_audio\u001b[0m:\u001b[36m161\u001b[0m - \u001b[1mDetected pause after speech. Processing...\u001b[0m\n",
      "\u001b[32m2024-06-01 19:16:29.153\u001b[0m | \u001b[1mINFO    \u001b[0m | \u001b[36mglados.voice_recognition\u001b[0m:\u001b[36m_process_detected_audio\u001b[0m:\u001b[36m163\u001b[0m - \u001b[1mStopping listening...\u001b[0m\n",
      "\u001b[32m2024-06-01 19:16:29.314\u001b[0m | \u001b[1mINFO    \u001b[0m | \u001b[36mglados.voice_recognition\u001b[0m:\u001b[36m_process_detected_audio\u001b[0m:\u001b[36m169\u001b[0m - \u001b[1mDetected: 'Goodbye.'\u001b[0m\n",
      "\u001b[32m2024-06-01 19:16:30.136\u001b[0m | \u001b[1mINFO    \u001b[0m | \u001b[36mglados.voice_recognition\u001b[0m:\u001b[36mreset\u001b[0m:\u001b[36m196\u001b[0m - \u001b[1mResetting recorder...\u001b[0m\n",
      "\u001b[32m2024-06-01 19:16:33.861\u001b[0m | \u001b[1mINFO    \u001b[0m | \u001b[36mglados.voice_recognition\u001b[0m:\u001b[36m_process_detected_audio\u001b[0m:\u001b[36m161\u001b[0m - \u001b[1mDetected pause after speech. Processing...\u001b[0m\n",
      "\u001b[32m2024-06-01 19:16:33.861\u001b[0m | \u001b[1mINFO    \u001b[0m | \u001b[36mglados.voice_recognition\u001b[0m:\u001b[36m_process_detected_audio\u001b[0m:\u001b[36m163\u001b[0m - \u001b[1mStopping listening...\u001b[0m\n",
      "\u001b[32m2024-06-01 19:16:34.028\u001b[0m | \u001b[1mINFO    \u001b[0m | \u001b[36mglados.voice_recognition\u001b[0m:\u001b[36m_process_detected_audio\u001b[0m:\u001b[36m169\u001b[0m - \u001b[1mDetected: 'You are a mirror.'\u001b[0m\n",
      "\u001b[32m2024-06-01 19:16:35.091\u001b[0m | \u001b[1mINFO    \u001b[0m | \u001b[36mglados.voice_recognition\u001b[0m:\u001b[36mreset\u001b[0m:\u001b[36m196\u001b[0m - \u001b[1mResetting recorder...\u001b[0m\n",
      "\u001b[32m2024-06-01 19:16:41.350\u001b[0m | \u001b[1mINFO    \u001b[0m | \u001b[36mglados.voice_recognition\u001b[0m:\u001b[36m_process_detected_audio\u001b[0m:\u001b[36m161\u001b[0m - \u001b[1mDetected pause after speech. Processing...\u001b[0m\n",
      "\u001b[32m2024-06-01 19:16:41.350\u001b[0m | \u001b[1mINFO    \u001b[0m | \u001b[36mglados.voice_recognition\u001b[0m:\u001b[36m_process_detected_audio\u001b[0m:\u001b[36m163\u001b[0m - \u001b[1mStopping listening...\u001b[0m\n",
      "\u001b[32m2024-06-01 19:16:41.511\u001b[0m | \u001b[1mINFO    \u001b[0m | \u001b[36mglados.voice_recognition\u001b[0m:\u001b[36m_process_detected_audio\u001b[0m:\u001b[36m169\u001b[0m - \u001b[1mDetected: 'So.'\u001b[0m\n",
      "\u001b[32m2024-06-01 19:16:42.083\u001b[0m | \u001b[1mINFO    \u001b[0m | \u001b[36mglados.voice_recognition\u001b[0m:\u001b[36mreset\u001b[0m:\u001b[36m196\u001b[0m - \u001b[1mResetting recorder...\u001b[0m\n",
      "\u001b[32m2024-06-01 19:16:47.642\u001b[0m | \u001b[1mINFO    \u001b[0m | \u001b[36mglados.voice_recognition\u001b[0m:\u001b[36m_process_detected_audio\u001b[0m:\u001b[36m161\u001b[0m - \u001b[1mDetected pause after speech. Processing...\u001b[0m\n",
      "\u001b[32m2024-06-01 19:16:47.643\u001b[0m | \u001b[1mINFO    \u001b[0m | \u001b[36mglados.voice_recognition\u001b[0m:\u001b[36m_process_detected_audio\u001b[0m:\u001b[36m163\u001b[0m - \u001b[1mStopping listening...\u001b[0m\n",
      "\u001b[32m2024-06-01 19:16:47.810\u001b[0m | \u001b[1mINFO    \u001b[0m | \u001b[36mglados.voice_recognition\u001b[0m:\u001b[36m_process_detected_audio\u001b[0m:\u001b[36m169\u001b[0m - \u001b[1mDetected: 'This is pretty fun actually.'\u001b[0m\n",
      "\u001b[32m2024-06-01 19:16:49.565\u001b[0m | \u001b[1mINFO    \u001b[0m | \u001b[36mglados.voice_recognition\u001b[0m:\u001b[36mreset\u001b[0m:\u001b[36m196\u001b[0m - \u001b[1mResetting recorder...\u001b[0m\n",
      "\u001b[32m2024-06-01 19:16:52.833\u001b[0m | \u001b[1mINFO    \u001b[0m | \u001b[36mglados.voice_recognition\u001b[0m:\u001b[36m_process_detected_audio\u001b[0m:\u001b[36m161\u001b[0m - \u001b[1mDetected pause after speech. Processing...\u001b[0m\n",
      "\u001b[32m2024-06-01 19:16:52.834\u001b[0m | \u001b[1mINFO    \u001b[0m | \u001b[36mglados.voice_recognition\u001b[0m:\u001b[36m_process_detected_audio\u001b[0m:\u001b[36m163\u001b[0m - \u001b[1mStopping listening...\u001b[0m\n",
      "\u001b[32m2024-06-01 19:16:53.005\u001b[0m | \u001b[1mINFO    \u001b[0m | \u001b[36mglados.voice_recognition\u001b[0m:\u001b[36m_process_detected_audio\u001b[0m:\u001b[36m169\u001b[0m - \u001b[1mDetected: 'You hear me pretty well not'\u001b[0m\n",
      "\u001b[32m2024-06-01 19:16:54.904\u001b[0m | \u001b[1mINFO    \u001b[0m | \u001b[36mglados.voice_recognition\u001b[0m:\u001b[36mreset\u001b[0m:\u001b[36m196\u001b[0m - \u001b[1mResetting recorder...\u001b[0m\n",
      "\u001b[32m2024-06-01 19:16:55.416\u001b[0m | \u001b[1mINFO    \u001b[0m | \u001b[36mglados.voice_recognition\u001b[0m:\u001b[36m_process_detected_audio\u001b[0m:\u001b[36m161\u001b[0m - \u001b[1mDetected pause after speech. Processing...\u001b[0m\n",
      "\u001b[32m2024-06-01 19:16:55.416\u001b[0m | \u001b[1mINFO    \u001b[0m | \u001b[36mglados.voice_recognition\u001b[0m:\u001b[36m_process_detected_audio\u001b[0m:\u001b[36m163\u001b[0m - \u001b[1mStopping listening...\u001b[0m\n",
      "\u001b[32m2024-06-01 19:16:55.481\u001b[0m | \u001b[1mINFO    \u001b[0m | \u001b[36mglados.voice_recognition\u001b[0m:\u001b[36mreset\u001b[0m:\u001b[36m196\u001b[0m - \u001b[1mResetting recorder...\u001b[0m\n",
      "whisper_full_with_state: input is too short - 540 ms < 1000 ms. consider padding the input audio with silence\n",
      "\u001b[32m2024-06-01 19:16:57.783\u001b[0m | \u001b[1mINFO    \u001b[0m | \u001b[36mglados.voice_recognition\u001b[0m:\u001b[36m_process_detected_audio\u001b[0m:\u001b[36m161\u001b[0m - \u001b[1mDetected pause after speech. Processing...\u001b[0m\n",
      "\u001b[32m2024-06-01 19:16:57.784\u001b[0m | \u001b[1mINFO    \u001b[0m | \u001b[36mglados.voice_recognition\u001b[0m:\u001b[36m_process_detected_audio\u001b[0m:\u001b[36m163\u001b[0m - \u001b[1mStopping listening...\u001b[0m\n",
      "\u001b[32m2024-06-01 19:16:57.954\u001b[0m | \u001b[1mINFO    \u001b[0m | \u001b[36mglados.voice_recognition\u001b[0m:\u001b[36m_process_detected_audio\u001b[0m:\u001b[36m169\u001b[0m - \u001b[1mDetected: 'Don't interrupt me, please.'\u001b[0m\n",
      "\u001b[32m2024-06-01 19:17:00.430\u001b[0m | \u001b[1mINFO    \u001b[0m | \u001b[36mglados.voice_recognition\u001b[0m:\u001b[36mreset\u001b[0m:\u001b[36m196\u001b[0m - \u001b[1mResetting recorder...\u001b[0m\n",
      "\u001b[32m2024-06-01 19:17:02.028\u001b[0m | \u001b[1mINFO    \u001b[0m | \u001b[36mglados.voice_recognition\u001b[0m:\u001b[36m_process_detected_audio\u001b[0m:\u001b[36m161\u001b[0m - \u001b[1mDetected pause after speech. Processing...\u001b[0m\n",
      "\u001b[32m2024-06-01 19:17:02.029\u001b[0m | \u001b[1mINFO    \u001b[0m | \u001b[36mglados.voice_recognition\u001b[0m:\u001b[36m_process_detected_audio\u001b[0m:\u001b[36m163\u001b[0m - \u001b[1mStopping listening...\u001b[0m\n",
      "\u001b[32m2024-06-01 19:17:02.187\u001b[0m | \u001b[1mINFO    \u001b[0m | \u001b[36mglados.voice_recognition\u001b[0m:\u001b[36m_process_detected_audio\u001b[0m:\u001b[36m169\u001b[0m - \u001b[1mDetected: 'Please.'\u001b[0m\n",
      "\u001b[32m2024-06-01 19:17:02.803\u001b[0m | \u001b[1mINFO    \u001b[0m | \u001b[36mglados.voice_recognition\u001b[0m:\u001b[36mreset\u001b[0m:\u001b[36m196\u001b[0m - \u001b[1mResetting recorder...\u001b[0m\n",
      "\u001b[32m2024-06-01 19:17:06.315\u001b[0m | \u001b[1mINFO    \u001b[0m | \u001b[36mglados.voice_recognition\u001b[0m:\u001b[36m_process_detected_audio\u001b[0m:\u001b[36m161\u001b[0m - \u001b[1mDetected pause after speech. Processing...\u001b[0m\n",
      "\u001b[32m2024-06-01 19:17:06.316\u001b[0m | \u001b[1mINFO    \u001b[0m | \u001b[36mglados.voice_recognition\u001b[0m:\u001b[36m_process_detected_audio\u001b[0m:\u001b[36m163\u001b[0m - \u001b[1mStopping listening...\u001b[0m\n",
      "\u001b[32m2024-06-01 19:17:06.388\u001b[0m | \u001b[1mINFO    \u001b[0m | \u001b[36mglados.voice_recognition\u001b[0m:\u001b[36mreset\u001b[0m:\u001b[36m196\u001b[0m - \u001b[1mResetting recorder...\u001b[0m\n",
      "whisper_full_with_state: input is too short - 990 ms < 1000 ms. consider padding the input audio with silence\n",
      "\u001b[32m2024-06-01 19:17:25.132\u001b[0m | \u001b[1mINFO    \u001b[0m | \u001b[36mglados.voice_recognition\u001b[0m:\u001b[36m_process_detected_audio\u001b[0m:\u001b[36m161\u001b[0m - \u001b[1mDetected pause after speech. Processing...\u001b[0m\n",
      "\u001b[32m2024-06-01 19:17:25.132\u001b[0m | \u001b[1mINFO    \u001b[0m | \u001b[36mglados.voice_recognition\u001b[0m:\u001b[36m_process_detected_audio\u001b[0m:\u001b[36m163\u001b[0m - \u001b[1mStopping listening...\u001b[0m\n",
      "\u001b[32m2024-06-01 19:17:25.316\u001b[0m | \u001b[1mINFO    \u001b[0m | \u001b[36mglados.voice_recognition\u001b[0m:\u001b[36m_process_detected_audio\u001b[0m:\u001b[36m169\u001b[0m - \u001b[1mDetected: 'It's a matter of time.'\u001b[0m\n",
      "\u001b[32m2024-06-01 19:17:26.840\u001b[0m | \u001b[1mINFO    \u001b[0m | \u001b[36mglados.voice_recognition\u001b[0m:\u001b[36mreset\u001b[0m:\u001b[36m196\u001b[0m - \u001b[1mResetting recorder...\u001b[0m\n",
      "\u001b[32m2024-06-01 19:17:31.831\u001b[0m | \u001b[1mINFO    \u001b[0m | \u001b[36mglados.voice_recognition\u001b[0m:\u001b[36m_process_detected_audio\u001b[0m:\u001b[36m161\u001b[0m - \u001b[1mDetected pause after speech. Processing...\u001b[0m\n",
      "\u001b[32m2024-06-01 19:17:31.832\u001b[0m | \u001b[1mINFO    \u001b[0m | \u001b[36mglados.voice_recognition\u001b[0m:\u001b[36m_process_detected_audio\u001b[0m:\u001b[36m163\u001b[0m - \u001b[1mStopping listening...\u001b[0m\n",
      "\u001b[32m2024-06-01 19:17:32.001\u001b[0m | \u001b[1mINFO    \u001b[0m | \u001b[36mglados.voice_recognition\u001b[0m:\u001b[36m_process_detected_audio\u001b[0m:\u001b[36m169\u001b[0m - \u001b[1mDetected: 'till you face your crimes.'\u001b[0m\n",
      "\u001b[32m2024-06-01 19:17:33.613\u001b[0m | \u001b[1mINFO    \u001b[0m | \u001b[36mglados.voice_recognition\u001b[0m:\u001b[36mreset\u001b[0m:\u001b[36m196\u001b[0m - \u001b[1mResetting recorder...\u001b[0m\n",
      "\u001b[32m2024-06-01 19:17:37.568\u001b[0m | \u001b[1mINFO    \u001b[0m | \u001b[36mglados.voice_recognition\u001b[0m:\u001b[36m_process_detected_audio\u001b[0m:\u001b[36m161\u001b[0m - \u001b[1mDetected pause after speech. Processing...\u001b[0m\n",
      "\u001b[32m2024-06-01 19:17:37.568\u001b[0m | \u001b[1mINFO    \u001b[0m | \u001b[36mglados.voice_recognition\u001b[0m:\u001b[36m_process_detected_audio\u001b[0m:\u001b[36m163\u001b[0m - \u001b[1mStopping listening...\u001b[0m\n",
      "\u001b[32m2024-06-01 19:17:37.751\u001b[0m | \u001b[1mINFO    \u001b[0m | \u001b[36mglados.voice_recognition\u001b[0m:\u001b[36m_process_detected_audio\u001b[0m:\u001b[36m169\u001b[0m - \u001b[1mDetected: 'Your number days of you.'\u001b[0m\n",
      "\u001b[32m2024-06-01 19:17:39.198\u001b[0m | \u001b[1mINFO    \u001b[0m | \u001b[36mglados.voice_recognition\u001b[0m:\u001b[36mreset\u001b[0m:\u001b[36m196\u001b[0m - \u001b[1mResetting recorder...\u001b[0m\n",
      "\u001b[32m2024-06-01 19:17:42.841\u001b[0m | \u001b[1mINFO    \u001b[0m | \u001b[36mglados.voice_recognition\u001b[0m:\u001b[36m_process_detected_audio\u001b[0m:\u001b[36m161\u001b[0m - \u001b[1mDetected pause after speech. Processing...\u001b[0m\n",
      "\u001b[32m2024-06-01 19:17:42.841\u001b[0m | \u001b[1mINFO    \u001b[0m | \u001b[36mglados.voice_recognition\u001b[0m:\u001b[36m_process_detected_audio\u001b[0m:\u001b[36m163\u001b[0m - \u001b[1mStopping listening...\u001b[0m\n",
      "\u001b[32m2024-06-01 19:17:43.016\u001b[0m | \u001b[1mINFO    \u001b[0m | \u001b[36mglados.voice_recognition\u001b[0m:\u001b[36m_process_detected_audio\u001b[0m:\u001b[36m169\u001b[0m - \u001b[1mDetected: 'Your numbered days of you.'\u001b[0m\n",
      "\u001b[32m2024-06-01 19:17:44.622\u001b[0m | \u001b[1mINFO    \u001b[0m | \u001b[36mglados.voice_recognition\u001b[0m:\u001b[36mreset\u001b[0m:\u001b[36m196\u001b[0m - \u001b[1mResetting recorder...\u001b[0m\n",
      "\u001b[32m2024-06-01 19:17:46.083\u001b[0m | \u001b[1mINFO    \u001b[0m | \u001b[36mglados.voice_recognition\u001b[0m:\u001b[36m_process_detected_audio\u001b[0m:\u001b[36m161\u001b[0m - \u001b[1mDetected pause after speech. Processing...\u001b[0m\n",
      "\u001b[32m2024-06-01 19:17:46.084\u001b[0m | \u001b[1mINFO    \u001b[0m | \u001b[36mglados.voice_recognition\u001b[0m:\u001b[36m_process_detected_audio\u001b[0m:\u001b[36m163\u001b[0m - \u001b[1mStopping listening...\u001b[0m\n",
      "\u001b[32m2024-06-01 19:17:46.149\u001b[0m | \u001b[1mINFO    \u001b[0m | \u001b[36mglados.voice_recognition\u001b[0m:\u001b[36mreset\u001b[0m:\u001b[36m196\u001b[0m - \u001b[1mResetting recorder...\u001b[0m\n",
      "whisper_full_with_state: input is too short - 990 ms < 1000 ms. consider padding the input audio with silence\n",
      "\u001b[32m2024-06-01 19:17:46.851\u001b[0m | \u001b[1mINFO    \u001b[0m | \u001b[36mglados.voice_recognition\u001b[0m:\u001b[36m_process_detected_audio\u001b[0m:\u001b[36m161\u001b[0m - \u001b[1mDetected pause after speech. Processing...\u001b[0m\n",
      "\u001b[32m2024-06-01 19:17:46.852\u001b[0m | \u001b[1mINFO    \u001b[0m | \u001b[36mglados.voice_recognition\u001b[0m:\u001b[36m_process_detected_audio\u001b[0m:\u001b[36m163\u001b[0m - \u001b[1mStopping listening...\u001b[0m\n",
      "\u001b[32m2024-06-01 19:17:46.917\u001b[0m | \u001b[1mINFO    \u001b[0m | \u001b[36mglados.voice_recognition\u001b[0m:\u001b[36mreset\u001b[0m:\u001b[36m196\u001b[0m - \u001b[1mResetting recorder...\u001b[0m\n",
      "whisper_full_with_state: input is too short - 740 ms < 1000 ms. consider padding the input audio with silence\n",
      "\u001b[32m2024-06-01 19:17:49.794\u001b[0m | \u001b[1mINFO    \u001b[0m | \u001b[36mglados.voice_recognition\u001b[0m:\u001b[36m_process_detected_audio\u001b[0m:\u001b[36m161\u001b[0m - \u001b[1mDetected pause after speech. Processing...\u001b[0m\n",
      "\u001b[32m2024-06-01 19:17:49.794\u001b[0m | \u001b[1mINFO    \u001b[0m | \u001b[36mglados.voice_recognition\u001b[0m:\u001b[36m_process_detected_audio\u001b[0m:\u001b[36m163\u001b[0m - \u001b[1mStopping listening...\u001b[0m\n",
      "\u001b[32m2024-06-01 19:17:49.955\u001b[0m | \u001b[1mINFO    \u001b[0m | \u001b[36mglados.voice_recognition\u001b[0m:\u001b[36m_process_detected_audio\u001b[0m:\u001b[36m169\u001b[0m - \u001b[1mDetected: 'A few.'\u001b[0m\n",
      "\u001b[32m2024-06-01 19:17:50.643\u001b[0m | \u001b[1mINFO    \u001b[0m | \u001b[36mglados.voice_recognition\u001b[0m:\u001b[36mreset\u001b[0m:\u001b[36m196\u001b[0m - \u001b[1mResetting recorder...\u001b[0m\n",
      "\u001b[32m2024-06-01 19:17:53.655\u001b[0m | \u001b[1mINFO    \u001b[0m | \u001b[36mglados.voice_recognition\u001b[0m:\u001b[36m_process_detected_audio\u001b[0m:\u001b[36m161\u001b[0m - \u001b[1mDetected pause after speech. Processing...\u001b[0m\n",
      "\u001b[32m2024-06-01 19:17:53.655\u001b[0m | \u001b[1mINFO    \u001b[0m | \u001b[36mglados.voice_recognition\u001b[0m:\u001b[36m_process_detected_audio\u001b[0m:\u001b[36m163\u001b[0m - \u001b[1mStopping listening...\u001b[0m\n",
      "\u001b[32m2024-06-01 19:17:53.824\u001b[0m | \u001b[1mINFO    \u001b[0m | \u001b[36mglados.voice_recognition\u001b[0m:\u001b[36m_process_detected_audio\u001b[0m:\u001b[36m169\u001b[0m - \u001b[1mDetected: 'Your number days a few.'\u001b[0m\n",
      "\u001b[32m2024-06-01 19:17:55.480\u001b[0m | \u001b[1mINFO    \u001b[0m | \u001b[36mglados.voice_recognition\u001b[0m:\u001b[36mreset\u001b[0m:\u001b[36m196\u001b[0m - \u001b[1mResetting recorder...\u001b[0m\n",
      "\u001b[32m2024-06-01 19:17:59.051\u001b[0m | \u001b[1mINFO    \u001b[0m | \u001b[36mglados.voice_recognition\u001b[0m:\u001b[36m_process_detected_audio\u001b[0m:\u001b[36m161\u001b[0m - \u001b[1mDetected pause after speech. Processing...\u001b[0m\n",
      "\u001b[32m2024-06-01 19:17:59.052\u001b[0m | \u001b[1mINFO    \u001b[0m | \u001b[36mglados.voice_recognition\u001b[0m:\u001b[36m_process_detected_audio\u001b[0m:\u001b[36m163\u001b[0m - \u001b[1mStopping listening...\u001b[0m\n",
      "\u001b[32m2024-06-01 19:17:59.220\u001b[0m | \u001b[1mINFO    \u001b[0m | \u001b[36mglados.voice_recognition\u001b[0m:\u001b[36m_process_detected_audio\u001b[0m:\u001b[36m169\u001b[0m - \u001b[1mDetected: 'Your number days of you.'\u001b[0m\n",
      "\u001b[32m2024-06-01 19:18:00.675\u001b[0m | \u001b[1mINFO    \u001b[0m | \u001b[36mglados.voice_recognition\u001b[0m:\u001b[36mreset\u001b[0m:\u001b[36m196\u001b[0m - \u001b[1mResetting recorder...\u001b[0m\n",
      "\u001b[32m2024-06-01 19:18:03.941\u001b[0m | \u001b[1mINFO    \u001b[0m | \u001b[36mglados.voice_recognition\u001b[0m:\u001b[36m_process_detected_audio\u001b[0m:\u001b[36m161\u001b[0m - \u001b[1mDetected pause after speech. Processing...\u001b[0m\n",
      "\u001b[32m2024-06-01 19:18:03.943\u001b[0m | \u001b[1mINFO    \u001b[0m | \u001b[36mglados.voice_recognition\u001b[0m:\u001b[36m_process_detected_audio\u001b[0m:\u001b[36m163\u001b[0m - \u001b[1mStopping listening...\u001b[0m\n",
      "\u001b[32m2024-06-01 19:18:04.113\u001b[0m | \u001b[1mINFO    \u001b[0m | \u001b[36mglados.voice_recognition\u001b[0m:\u001b[36m_process_detected_audio\u001b[0m:\u001b[36m169\u001b[0m - \u001b[1mDetected: 'Not of you, but of you.'\u001b[0m\n",
      "\u001b[32m2024-06-01 19:18:06.360\u001b[0m | \u001b[1mINFO    \u001b[0m | \u001b[36mglados.voice_recognition\u001b[0m:\u001b[36mreset\u001b[0m:\u001b[36m196\u001b[0m - \u001b[1mResetting recorder...\u001b[0m\n",
      "\u001b[32m2024-06-01 19:18:10.069\u001b[0m | \u001b[1mINFO    \u001b[0m | \u001b[36mglados.voice_recognition\u001b[0m:\u001b[36m_process_detected_audio\u001b[0m:\u001b[36m161\u001b[0m - \u001b[1mDetected pause after speech. Processing...\u001b[0m\n",
      "\u001b[32m2024-06-01 19:18:10.070\u001b[0m | \u001b[1mINFO    \u001b[0m | \u001b[36mglados.voice_recognition\u001b[0m:\u001b[36m_process_detected_audio\u001b[0m:\u001b[36m163\u001b[0m - \u001b[1mStopping listening...\u001b[0m\n",
      "\u001b[32m2024-06-01 19:18:10.244\u001b[0m | \u001b[1mINFO    \u001b[0m | \u001b[36mglados.voice_recognition\u001b[0m:\u001b[36m_process_detected_audio\u001b[0m:\u001b[36m169\u001b[0m - \u001b[1mDetected: 'not of you, but a few.'\u001b[0m\n",
      "\u001b[32m2024-06-01 19:18:12.648\u001b[0m | \u001b[1mINFO    \u001b[0m | \u001b[36mglados.voice_recognition\u001b[0m:\u001b[36mreset\u001b[0m:\u001b[36m196\u001b[0m - \u001b[1mResetting recorder...\u001b[0m\n",
      "\u001b[32m2024-06-01 19:18:16.093\u001b[0m | \u001b[1mINFO    \u001b[0m | \u001b[36mglados.voice_recognition\u001b[0m:\u001b[36m_process_detected_audio\u001b[0m:\u001b[36m161\u001b[0m - \u001b[1mDetected pause after speech. Processing...\u001b[0m\n",
      "\u001b[32m2024-06-01 19:18:16.094\u001b[0m | \u001b[1mINFO    \u001b[0m | \u001b[36mglados.voice_recognition\u001b[0m:\u001b[36m_process_detected_audio\u001b[0m:\u001b[36m163\u001b[0m - \u001b[1mStopping listening...\u001b[0m\n",
      "\u001b[32m2024-06-01 19:18:16.277\u001b[0m | \u001b[1mINFO    \u001b[0m | \u001b[36mglados.voice_recognition\u001b[0m:\u001b[36m_process_detected_audio\u001b[0m:\u001b[36m169\u001b[0m - \u001b[1mDetected: 'Your number days a few.'\u001b[0m\n",
      "\u001b[32m2024-06-01 19:18:17.976\u001b[0m | \u001b[1mINFO    \u001b[0m | \u001b[36mglados.voice_recognition\u001b[0m:\u001b[36mreset\u001b[0m:\u001b[36m196\u001b[0m - \u001b[1mResetting recorder...\u001b[0m\n",
      "\u001b[32m2024-06-01 19:18:21.490\u001b[0m | \u001b[1mINFO    \u001b[0m | \u001b[36mglados.voice_recognition\u001b[0m:\u001b[36m_process_detected_audio\u001b[0m:\u001b[36m161\u001b[0m - \u001b[1mDetected pause after speech. Processing...\u001b[0m\n",
      "\u001b[32m2024-06-01 19:18:21.490\u001b[0m | \u001b[1mINFO    \u001b[0m | \u001b[36mglados.voice_recognition\u001b[0m:\u001b[36m_process_detected_audio\u001b[0m:\u001b[36m163\u001b[0m - \u001b[1mStopping listening...\u001b[0m\n",
      "\u001b[32m2024-06-01 19:18:21.667\u001b[0m | \u001b[1mINFO    \u001b[0m | \u001b[36mglados.voice_recognition\u001b[0m:\u001b[36m_process_detected_audio\u001b[0m:\u001b[36m169\u001b[0m - \u001b[1mDetected: 'Your numbered days at few.'\u001b[0m\n",
      "\u001b[32m2024-06-01 19:18:23.453\u001b[0m | \u001b[1mINFO    \u001b[0m | \u001b[36mglados.voice_recognition\u001b[0m:\u001b[36mreset\u001b[0m:\u001b[36m196\u001b[0m - \u001b[1mResetting recorder...\u001b[0m\n",
      "\u001b[32m2024-06-01 19:18:26.909\u001b[0m | \u001b[1mINFO    \u001b[0m | \u001b[36mglados.voice_recognition\u001b[0m:\u001b[36m_process_detected_audio\u001b[0m:\u001b[36m161\u001b[0m - \u001b[1mDetected pause after speech. Processing...\u001b[0m\n",
      "\u001b[32m2024-06-01 19:18:26.910\u001b[0m | \u001b[1mINFO    \u001b[0m | \u001b[36mglados.voice_recognition\u001b[0m:\u001b[36m_process_detected_audio\u001b[0m:\u001b[36m163\u001b[0m - \u001b[1mStopping listening...\u001b[0m\n",
      "\u001b[32m2024-06-01 19:18:27.076\u001b[0m | \u001b[1mINFO    \u001b[0m | \u001b[36mglados.voice_recognition\u001b[0m:\u001b[36m_process_detected_audio\u001b[0m:\u001b[36m169\u001b[0m - \u001b[1mDetected: 'No, no, no, no.'\u001b[0m\n"
     ]
    },
    {
     "ename": "KeyboardInterrupt",
     "evalue": "",
     "output_type": "error",
     "traceback": [
      "\u001b[0;31m---------------------------------------------------------------------------\u001b[0m",
      "\u001b[0;31mKeyboardInterrupt\u001b[0m                         Traceback (most recent call last)",
      "Cell \u001b[0;32mIn[5], line 12\u001b[0m\n\u001b[1;32m      9\u001b[0m demo \u001b[38;5;241m=\u001b[39m vr\u001b[38;5;241m.\u001b[39mVoiceRecognition(function\u001b[38;5;241m=\u001b[39msay_text)\n\u001b[1;32m     11\u001b[0m \u001b[38;5;66;03m# Start the demo\u001b[39;00m\n\u001b[0;32m---> 12\u001b[0m \u001b[43mdemo\u001b[49m\u001b[38;5;241;43m.\u001b[39;49m\u001b[43mstart\u001b[49m\u001b[43m(\u001b[49m\u001b[43m)\u001b[49m\n",
      "File \u001b[0;32m~/projects/GlaDOS/glados/voice_recognition.py:96\u001b[0m, in \u001b[0;36mVoiceRecognition.start\u001b[0;34m(self)\u001b[0m\n\u001b[1;32m     94\u001b[0m \u001b[38;5;28mself\u001b[39m\u001b[38;5;241m.\u001b[39minput_stream\u001b[38;5;241m.\u001b[39mstart()\n\u001b[1;32m     95\u001b[0m logger\u001b[38;5;241m.\u001b[39minfo(\u001b[38;5;124m\"\u001b[39m\u001b[38;5;124mListening Running\u001b[39m\u001b[38;5;124m\"\u001b[39m)\n\u001b[0;32m---> 96\u001b[0m \u001b[38;5;28;43mself\u001b[39;49m\u001b[38;5;241;43m.\u001b[39;49m\u001b[43m_listen_and_respond\u001b[49m\u001b[43m(\u001b[49m\u001b[43m)\u001b[49m\n",
      "File \u001b[0;32m~/projects/GlaDOS/glados/voice_recognition.py:105\u001b[0m, in \u001b[0;36mVoiceRecognition._listen_and_respond\u001b[0;34m(self)\u001b[0m\n\u001b[1;32m    103\u001b[0m \u001b[38;5;28;01mwhile\u001b[39;00m \u001b[38;5;28;01mTrue\u001b[39;00m:  \u001b[38;5;66;03m# Loop forever, but is 'paused' when new samples are not available\u001b[39;00m\n\u001b[1;32m    104\u001b[0m     sample, vad_confidence \u001b[38;5;241m=\u001b[39m \u001b[38;5;28mself\u001b[39m\u001b[38;5;241m.\u001b[39msample_queue\u001b[38;5;241m.\u001b[39mget()\n\u001b[0;32m--> 105\u001b[0m     \u001b[38;5;28;43mself\u001b[39;49m\u001b[38;5;241;43m.\u001b[39;49m\u001b[43m_handle_audio_sample\u001b[49m\u001b[43m(\u001b[49m\u001b[43msample\u001b[49m\u001b[43m,\u001b[49m\u001b[43m \u001b[49m\u001b[43mvad_confidence\u001b[49m\u001b[43m)\u001b[49m\n",
      "File \u001b[0;32m~/projects/GlaDOS/glados/voice_recognition.py:114\u001b[0m, in \u001b[0;36mVoiceRecognition._handle_audio_sample\u001b[0;34m(self, sample, vad_confidence)\u001b[0m\n\u001b[1;32m    112\u001b[0m     \u001b[38;5;28mself\u001b[39m\u001b[38;5;241m.\u001b[39m_manage_pre_activation_buffer(sample, vad_confidence)\n\u001b[1;32m    113\u001b[0m \u001b[38;5;28;01melse\u001b[39;00m:\n\u001b[0;32m--> 114\u001b[0m     \u001b[38;5;28;43mself\u001b[39;49m\u001b[38;5;241;43m.\u001b[39;49m\u001b[43m_process_activated_audio\u001b[49m\u001b[43m(\u001b[49m\u001b[43msample\u001b[49m\u001b[43m,\u001b[49m\u001b[43m \u001b[49m\u001b[43mvad_confidence\u001b[49m\u001b[43m)\u001b[49m\n",
      "File \u001b[0;32m~/projects/GlaDOS/glados/voice_recognition.py:141\u001b[0m, in \u001b[0;36mVoiceRecognition._process_activated_audio\u001b[0;34m(self, sample, vad_confidence)\u001b[0m\n\u001b[1;32m    139\u001b[0m     \u001b[38;5;28mself\u001b[39m\u001b[38;5;241m.\u001b[39mgap_counter \u001b[38;5;241m+\u001b[39m\u001b[38;5;241m=\u001b[39m \u001b[38;5;241m1\u001b[39m\n\u001b[1;32m    140\u001b[0m     \u001b[38;5;28;01mif\u001b[39;00m \u001b[38;5;28mself\u001b[39m\u001b[38;5;241m.\u001b[39mgap_counter \u001b[38;5;241m>\u001b[39m\u001b[38;5;241m=\u001b[39m PAUSE_LIMIT \u001b[38;5;241m/\u001b[39m\u001b[38;5;241m/\u001b[39m VAD_SIZE:\n\u001b[0;32m--> 141\u001b[0m         \u001b[38;5;28;43mself\u001b[39;49m\u001b[38;5;241;43m.\u001b[39;49m\u001b[43m_process_detected_audio\u001b[49m\u001b[43m(\u001b[49m\u001b[43m)\u001b[49m\n\u001b[1;32m    142\u001b[0m \u001b[38;5;28;01melse\u001b[39;00m:\n\u001b[1;32m    143\u001b[0m     \u001b[38;5;28mself\u001b[39m\u001b[38;5;241m.\u001b[39mgap_counter \u001b[38;5;241m=\u001b[39m \u001b[38;5;241m0\u001b[39m\n",
      "File \u001b[0;32m~/projects/GlaDOS/glados/voice_recognition.py:178\u001b[0m, in \u001b[0;36mVoiceRecognition._process_detected_audio\u001b[0;34m(self)\u001b[0m\n\u001b[1;32m    176\u001b[0m             logger\u001b[38;5;241m.\u001b[39minfo(\u001b[38;5;124m\"\u001b[39m\u001b[38;5;124mNo wake word detected. Ignoring...\u001b[39m\u001b[38;5;124m\"\u001b[39m)\n\u001b[1;32m    177\u001b[0m     \u001b[38;5;28;01melse\u001b[39;00m:\n\u001b[0;32m--> 178\u001b[0m         \u001b[38;5;28;43mself\u001b[39;49m\u001b[38;5;241;43m.\u001b[39;49m\u001b[43mfunc\u001b[49m\u001b[43m(\u001b[49m\u001b[43mdetected_text\u001b[49m\u001b[43m)\u001b[49m\n\u001b[1;32m    180\u001b[0m \u001b[38;5;28mself\u001b[39m\u001b[38;5;241m.\u001b[39mreset()\n\u001b[1;32m    181\u001b[0m \u001b[38;5;28mself\u001b[39m\u001b[38;5;241m.\u001b[39minput_stream\u001b[38;5;241m.\u001b[39mstart()\n",
      "Cell \u001b[0;32mIn[5], line 6\u001b[0m, in \u001b[0;36msay_text\u001b[0;34m(text)\u001b[0m\n\u001b[1;32m      4\u001b[0m audio \u001b[38;5;241m=\u001b[39m glados_tts\u001b[38;5;241m.\u001b[39mgenerate_speech_audio(text)\n\u001b[1;32m      5\u001b[0m sd\u001b[38;5;241m.\u001b[39mplay(audio, tts\u001b[38;5;241m.\u001b[39mRATE)\n\u001b[0;32m----> 6\u001b[0m \u001b[43msd\u001b[49m\u001b[38;5;241;43m.\u001b[39;49m\u001b[43mwait\u001b[49m\u001b[43m(\u001b[49m\u001b[43m)\u001b[49m\n",
      "File \u001b[0;32m~/miniconda3/envs/glados/lib/python3.11/site-packages/sounddevice.py:395\u001b[0m, in \u001b[0;36mwait\u001b[0;34m(ignore_errors)\u001b[0m\n\u001b[1;32m    379\u001b[0m \u001b[38;5;250m\u001b[39m\u001b[38;5;124;03m\"\"\"Wait for `play()`/`rec()`/`playrec()` to be finished.\u001b[39;00m\n\u001b[1;32m    380\u001b[0m \n\u001b[1;32m    381\u001b[0m \u001b[38;5;124;03mPlayback/recording can be stopped with a `KeyboardInterrupt`.\u001b[39;00m\n\u001b[0;32m   (...)\u001b[0m\n\u001b[1;32m    392\u001b[0m \n\u001b[1;32m    393\u001b[0m \u001b[38;5;124;03m\"\"\"\u001b[39;00m\n\u001b[1;32m    394\u001b[0m \u001b[38;5;28;01mif\u001b[39;00m _last_callback:\n\u001b[0;32m--> 395\u001b[0m     \u001b[38;5;28;01mreturn\u001b[39;00m \u001b[43m_last_callback\u001b[49m\u001b[38;5;241;43m.\u001b[39;49m\u001b[43mwait\u001b[49m\u001b[43m(\u001b[49m\u001b[43mignore_errors\u001b[49m\u001b[43m)\u001b[49m\n",
      "File \u001b[0;32m~/miniconda3/envs/glados/lib/python3.11/site-packages/sounddevice.py:2601\u001b[0m, in \u001b[0;36m_CallbackContext.wait\u001b[0;34m(self, ignore_errors)\u001b[0m\n\u001b[1;32m   2595\u001b[0m \u001b[38;5;250m\u001b[39m\u001b[38;5;124;03m\"\"\"Wait for finished_callback.\u001b[39;00m\n\u001b[1;32m   2596\u001b[0m \n\u001b[1;32m   2597\u001b[0m \u001b[38;5;124;03mCan be interrupted with a KeyboardInterrupt.\u001b[39;00m\n\u001b[1;32m   2598\u001b[0m \n\u001b[1;32m   2599\u001b[0m \u001b[38;5;124;03m\"\"\"\u001b[39;00m\n\u001b[1;32m   2600\u001b[0m \u001b[38;5;28;01mtry\u001b[39;00m:\n\u001b[0;32m-> 2601\u001b[0m     \u001b[38;5;28;43mself\u001b[39;49m\u001b[38;5;241;43m.\u001b[39;49m\u001b[43mevent\u001b[49m\u001b[38;5;241;43m.\u001b[39;49m\u001b[43mwait\u001b[49m\u001b[43m(\u001b[49m\u001b[43m)\u001b[49m\n\u001b[1;32m   2602\u001b[0m \u001b[38;5;28;01mfinally\u001b[39;00m:\n\u001b[1;32m   2603\u001b[0m     \u001b[38;5;28mself\u001b[39m\u001b[38;5;241m.\u001b[39mstream\u001b[38;5;241m.\u001b[39mclose(ignore_errors)\n",
      "File \u001b[0;32m~/miniconda3/envs/glados/lib/python3.11/threading.py:629\u001b[0m, in \u001b[0;36mEvent.wait\u001b[0;34m(self, timeout)\u001b[0m\n\u001b[1;32m    627\u001b[0m signaled \u001b[38;5;241m=\u001b[39m \u001b[38;5;28mself\u001b[39m\u001b[38;5;241m.\u001b[39m_flag\n\u001b[1;32m    628\u001b[0m \u001b[38;5;28;01mif\u001b[39;00m \u001b[38;5;129;01mnot\u001b[39;00m signaled:\n\u001b[0;32m--> 629\u001b[0m     signaled \u001b[38;5;241m=\u001b[39m \u001b[38;5;28;43mself\u001b[39;49m\u001b[38;5;241;43m.\u001b[39;49m\u001b[43m_cond\u001b[49m\u001b[38;5;241;43m.\u001b[39;49m\u001b[43mwait\u001b[49m\u001b[43m(\u001b[49m\u001b[43mtimeout\u001b[49m\u001b[43m)\u001b[49m\n\u001b[1;32m    630\u001b[0m \u001b[38;5;28;01mreturn\u001b[39;00m signaled\n",
      "File \u001b[0;32m~/miniconda3/envs/glados/lib/python3.11/threading.py:327\u001b[0m, in \u001b[0;36mCondition.wait\u001b[0;34m(self, timeout)\u001b[0m\n\u001b[1;32m    325\u001b[0m \u001b[38;5;28;01mtry\u001b[39;00m:    \u001b[38;5;66;03m# restore state no matter what (e.g., KeyboardInterrupt)\u001b[39;00m\n\u001b[1;32m    326\u001b[0m     \u001b[38;5;28;01mif\u001b[39;00m timeout \u001b[38;5;129;01mis\u001b[39;00m \u001b[38;5;28;01mNone\u001b[39;00m:\n\u001b[0;32m--> 327\u001b[0m         \u001b[43mwaiter\u001b[49m\u001b[38;5;241;43m.\u001b[39;49m\u001b[43macquire\u001b[49m\u001b[43m(\u001b[49m\u001b[43m)\u001b[49m\n\u001b[1;32m    328\u001b[0m         gotit \u001b[38;5;241m=\u001b[39m \u001b[38;5;28;01mTrue\u001b[39;00m\n\u001b[1;32m    329\u001b[0m     \u001b[38;5;28;01melse\u001b[39;00m:\n",
      "\u001b[0;31mKeyboardInterrupt\u001b[0m: "
     ]
    }
   ],
   "source": [
    "def say_text(text: str):\n",
    "    \"\"\"Say text using text-to-speech engine\n",
    "    \"\"\"\n",
    "    audio = glados_tts.generate_speech_audio(text)\n",
    "    sd.play(audio, tts.RATE)\n",
    "    sd.wait()\n",
    "\n",
    "# Instantiate VoiceRecognition class with the say_text function\n",
    "demo = vr.VoiceRecognition(function=say_text)\n",
    "\n",
    "# Start the demo\n",
    "demo.start()"
   ]
  },
  {
   "cell_type": "code",
   "execution_count": null,
   "metadata": {},
   "outputs": [],
   "source": [
    "say_text(\"Goodbye\")"
   ]
  },
  {
   "cell_type": "code",
   "execution_count": null,
   "metadata": {},
   "outputs": [],
   "source": [
    "from pathlib import Path\n",
    "Path.cwd()"
   ]
  },
  {
   "cell_type": "code",
   "execution_count": null,
   "metadata": {},
   "outputs": [],
   "source": [
    "from glados import vad\n",
    "from pathlib import Path\n",
    "from queue import Queue\n",
    "import sounddevice as sd\n",
    "\n",
    "VAD_MODEL = \"silero_vad.onnx\"\n",
    "\n",
    "PAUSE_TIME = 0.05  # Time to wait between processing loops\n",
    "SAMPLE_RATE = 16000  # Sample rate for input stream\n",
    "VAD_SIZE = 50  # Milliseconds of sample for Voice Activity Detection (VAD)\n",
    "VAD_THRESHOLD = 0.9  # Threshold for VAD detection\n",
    "BUFFER_SIZE = 600  # Milliseconds of buffer before VAD detection\n",
    "PAUSE_LIMIT = 400  # Milliseconds of pause allowed before processing\n",
    "\n",
    "\n",
    "vad_model = vad.VAD(model_path=str(Path.cwd() / \"models\" / VAD_MODEL))\n",
    "\n",
    "q = Queue()\n",
    "\n",
    "def audio_callback(indata, frames, time, status):\n",
    "    data = indata.copy()\n",
    "    data = data.squeeze()\n",
    "    conf = vad_model.process_chunk(data)\n",
    "    # vad_confidence = conf > VAD_THRESHOLD\n",
    "    q.put(conf)\n",
    "    print(conf)\n",
    "\n",
    "\n",
    "input_stream = sd.InputStream(\n",
    "            samplerate=SAMPLE_RATE,\n",
    "            channels=1,\n",
    "            callback=audio_callback,\n",
    "            blocksize=int(SAMPLE_RATE * VAD_SIZE / 1000),\n",
    "        )"
   ]
  },
  {
   "cell_type": "code",
   "execution_count": null,
   "metadata": {},
   "outputs": [],
   "source": [
    "input_stream.start()"
   ]
  },
  {
   "cell_type": "code",
   "execution_count": null,
   "metadata": {},
   "outputs": [],
   "source": [
    "from main import Glados\n",
    "demo = Glados(wake_word=None)\n",
    "demo.start()"
   ]
  },
  {
   "cell_type": "code",
   "execution_count": null,
   "metadata": {},
   "outputs": [],
   "source": [
    "import numpy as np\n",
    "import matplotlib.pyplot as plt\n",
    "from matplotlib.animation import FuncAnimation\n",
    "import time\n",
    "import queue\n",
    "\n",
    "fig, ax = plt.subplots()\n",
    "ax.set_ylim(0, 1)       # Adjust the y-axis to accommodate all data points\n",
    "\n",
    "x, y = [], []\n",
    "line, = ax.plot(x, y, 'r-')  # 'r-' is for a red line\n",
    "\n",
    "data_queue = queue.Queue()\n",
    "\n",
    "def feed_data():\n",
    "    for _ in range(100):  # Simulate 100 data points\n",
    "        time.sleep(0.1)  # Simulate time delay\n",
    "        data_queue.put(np.random.rand())\n",
    "    data_queue.put(None)  # Signal to stop the generator\n",
    "\n",
    "\n",
    "def data_gen():\n",
    "    t = 0\n",
    "    while True:\n",
    "        t += 1\n",
    "        value = q.get()\n",
    "        yield t, value  # This would be replaced with your callback function\n",
    "\n",
    "def update(data):\n",
    "    t, value = data\n",
    "    x.append(t)\n",
    "    y.append(value)\n",
    "    line.set_data(x, y)\n",
    "    ax.set_xlim(max(0, t-50), t+50)  # Adjust the x-axis to show a moving window\n",
    "    return line,\n",
    "\n",
    "ani = FuncAnimation(fig, update, frames=data_gen, blit=True)\n",
    "\n",
    "plt.show()\n"
   ]
  },
  {
   "cell_type": "code",
   "execution_count": null,
   "metadata": {},
   "outputs": [],
   "source": [
    "input_stream.stop()"
   ]
  }
 ],
 "metadata": {
  "kernelspec": {
   "display_name": "GLaDOS",
   "language": "python",
   "name": "python3"
  },
  "language_info": {
   "codemirror_mode": {
    "name": "ipython",
    "version": 3
   },
   "file_extension": ".py",
   "mimetype": "text/x-python",
   "name": "python",
   "nbconvert_exporter": "python",
   "pygments_lexer": "ipython3",
   "version": "3.11.9"
  }
 },
 "nbformat": 4,
 "nbformat_minor": 2
}
